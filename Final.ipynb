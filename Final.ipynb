{
 "cells": [
  {
   "cell_type": "markdown",
   "metadata": {},
   "source": [
    "# Team 7 - Garbage DumPY\n",
    "## Demonstration of Basic Forward and Inverse Kinematics\n",
    "### MANE 4120/6120 - Robotics 1 - Fall 2023"
   ]
  },
  {
   "cell_type": "markdown",
   "metadata": {},
   "source": [
    "1. Import RPI Robotics Toolbox, Yahboom Jetson DOFBOT Code, etc."
   ]
  },
  {
   "cell_type": "code",
   "execution_count": 8,
   "metadata": {},
   "outputs": [],
   "source": [
    "import general_robotics_toolbox.general_robotics_toolbox as grt\n",
    "import general_robotics_toolbox.general_robotics_toolbox_invkin as grt_ik\n",
    "import Arm, Dofbot\n",
    "from Arm_Lib import Arm_Device\n",
    "\n",
    "import time\n",
    "import numpy as np\n",
    "import math\n",
    "import path_generation\n",
    "import move_read"
   ]
  },
  {
   "cell_type": "markdown",
   "metadata": {},
   "source": [
    "2. Initialize Robot Object"
   ]
  },
  {
   "cell_type": "code",
   "execution_count": 9,
   "metadata": {},
   "outputs": [],
   "source": [
    "# Define all the joint lengths [m]\n",
    "l0 = 61 * 10**-3\n",
    "l1 = 43.5 * 10**-3\n",
    "l2 = 82.85 * 10**-3\n",
    "l3 = 82.85 * 10**-3\n",
    "l4 = 73.85 * 10**-3\n",
    "l5 = 54.57 * 10**-3\n",
    "\n",
    "\n",
    "# define the unit vectors\n",
    "ex = np.array([1, 0, 0])\n",
    "ey = np.array([0, 1, 0])\n",
    "ez = np.array([0, 0, 1])\n",
    "\n",
    "\n",
    "# Define the position vectors from i-1 -> i\n",
    "P01 = (l0 + l1) * ez\n",
    "P12 = np.zeros(3)\n",
    "P23 = l2 * ex\n",
    "P34 = -1*l3 * ez\n",
    "P45 = np.zeros(3)\n",
    "P5T = -1*(l4 + l5) * ex\n",
    "\n",
    "# define the class inputs: rotation axes (H), position vectors (P), and joint_type\n",
    "H = np.array([ez, -1*ey, -1*ey, -1*ey, -1*ex]).T\n",
    "P = np.array([P01, P12, P23, P34, P45, P5T]).T\n",
    "joint_type = [0,0,0,0,0]\n",
    "\n",
    " \n",
    "# define the Robot object\n",
    "robot = grt.Robot(H, P, joint_type)\n",
    "\n",
    "# initialize servo arm\n",
    "Arm = Arm_Device()\n",
    "# Set the bot to be vertical\n",
    "Arm.Arm_serial_servo_write6(90,65,5,70,90,15,1000)\n",
    "start = np.array([90,90,90,90,90,15])\n",
    "# THE SERVO ANGLE (the 6th variable) CAN NOT BE ZERO OR IT WILL BREAK THE SERVO\n",
    "# It must be between 5 and 180"
   ]
  },
  {
   "cell_type": "markdown",
   "metadata": {},
   "source": [
    "3. Perform Forward Kinematics"
   ]
  },
  {
   "cell_type": "code",
   "execution_count": 6,
   "metadata": {},
   "outputs": [
    {
     "name": "stdout",
     "output_type": "stream",
     "text": [
      "Initial Joints: \n",
      " [1.57079633 1.13446401 0.08726646 1.22173048 1.57079633]\n",
      "Expected Transform:\n",
      " R = [[-0.     -0.     -1.    ]\n",
      "     [-0.766   0.6428  0.    ]\n",
      "     [ 0.6428  0.766  -0.    ]]\n",
      "p = [0.     0.2112 0.0687]\n",
      "\n",
      "\n"
     ]
    }
   ],
   "source": [
    "# initialize joint angles, radians\n",
    "q0 = np.array([90,65, 5,70,90])*math.pi/180\n",
    "print(\"Initial Joints: \\n\",q0)\n",
    "# and compute path\n",
    "p = grt.fwdkin(robot,q0)\n",
    "print(\"Expected Transform:\\n\",p)"
   ]
  },
  {
   "cell_type": "code",
   "execution_count": 7,
   "metadata": {},
   "outputs": [
    {
     "name": "stdout",
     "output_type": "stream",
     "text": [
      "[array([90., 90., 90., 90., 90., 15.]), array([90., 85., 73., 86., 90., 15.]), array([90., 80., 56., 82., 90., 15.]), array([90., 75., 39., 78., 90., 15.]), array([90., 70., 22., 74., 90., 15.]), array([90., 65.,  5., 70., 90., 15.])]\n"
     ]
    }
   ],
   "source": [
    "#End position from FK\n",
    "end = np.array([90,65,5,70,90,15])\n",
    "\n",
    "#Generating path\n",
    "q_des = path_generation.gen_joint_space_path(start, end, 5)\n",
    "\n",
    "#Moving arm through path\n",
    "for i in range(len(q_des)):\n",
    "    move_read.move_bot(q_des[i])\n",
    "print(q_des)"
   ]
  },
  {
   "cell_type": "code",
   "execution_count": 3,
   "metadata": {},
   "outputs": [
    {
     "ename": "NameError",
     "evalue": "name 'start' is not defined",
     "output_type": "error",
     "traceback": [
      "\u001b[0;31m---------------------------------------------------------------------------\u001b[0m",
      "\u001b[0;31mNameError\u001b[0m                                 Traceback (most recent call last)",
      "\u001b[0;32m<ipython-input-3-264760027eae>\u001b[0m in \u001b[0;36m<module>\u001b[0;34m\u001b[0m\n\u001b[0;32m----> 1\u001b[0;31m \u001b[0mq_des\u001b[0m \u001b[0;34m=\u001b[0m \u001b[0mpath_generation\u001b[0m\u001b[0;34m.\u001b[0m\u001b[0mgen_joint_space_path\u001b[0m\u001b[0;34m(\u001b[0m\u001b[0mstart\u001b[0m\u001b[0;34m,\u001b[0m \u001b[0mend\u001b[0m\u001b[0;34m,\u001b[0m \u001b[0;36m5\u001b[0m\u001b[0;34m)\u001b[0m\u001b[0;34m\u001b[0m\u001b[0;34m\u001b[0m\u001b[0m\n\u001b[0m\u001b[1;32m      2\u001b[0m \u001b[0mprint\u001b[0m\u001b[0;34m(\u001b[0m\u001b[0mq_des\u001b[0m\u001b[0;34m)\u001b[0m\u001b[0;34m\u001b[0m\u001b[0;34m\u001b[0m\u001b[0m\n",
      "\u001b[0;31mNameError\u001b[0m: name 'start' is not defined"
     ]
    }
   ],
   "source": [
    "q_des = path_generation.gen_joint_space_path(start, end, 5)\n",
    "print(q_des)"
   ]
  },
  {
   "cell_type": "code",
   "execution_count": 5,
   "metadata": {},
   "outputs": [],
   "source": [
    "#Grabbing block\n",
    "Arm.Arm_serial_servo_write(6, 155, 400)"
   ]
  },
  {
   "cell_type": "markdown",
   "metadata": {},
   "source": [
    "4. Perform Inverse Kinematics"
   ]
  },
  {
   "cell_type": "code",
   "execution_count": 10,
   "metadata": {},
   "outputs": [
    {
     "ename": "KeyboardInterrupt",
     "evalue": "",
     "output_type": "error",
     "traceback": [
      "\u001b[0;31m---------------------------------------------------------------------------\u001b[0m",
      "\u001b[0;31mKeyboardInterrupt\u001b[0m                         Traceback (most recent call last)",
      "\u001b[0;32m<ipython-input-10-c2243993a0f4>\u001b[0m in \u001b[0;36m<module>\u001b[0;34m\u001b[0m\n\u001b[1;32m     10\u001b[0m \u001b[0;32mwhile\u001b[0m\u001b[0;34m(\u001b[0m\u001b[0mqf\u001b[0m\u001b[0;34m[\u001b[0m\u001b[0;36m0\u001b[0m\u001b[0;34m]\u001b[0m\u001b[0;34m!=\u001b[0m\u001b[0;32mTrue\u001b[0m\u001b[0;34m)\u001b[0m\u001b[0;34m:\u001b[0m \u001b[0;31m#if the inverse kinematics does not converge\u001b[0m\u001b[0;34m\u001b[0m\u001b[0;34m\u001b[0m\u001b[0m\n\u001b[1;32m     11\u001b[0m     \u001b[0mmax_steps\u001b[0m\u001b[0;34m*=\u001b[0m\u001b[0;36m2\u001b[0m\u001b[0;34m\u001b[0m\u001b[0;34m\u001b[0m\u001b[0m\n\u001b[0;32m---> 12\u001b[0;31m     \u001b[0mqf\u001b[0m \u001b[0;34m=\u001b[0m \u001b[0mgrt_ik\u001b[0m\u001b[0;34m.\u001b[0m\u001b[0miterative_invkin\u001b[0m\u001b[0;34m(\u001b[0m\u001b[0mrobot\u001b[0m\u001b[0;34m,\u001b[0m\u001b[0mTf\u001b[0m\u001b[0;34m,\u001b[0m\u001b[0mq0\u001b[0m\u001b[0;34m,\u001b[0m\u001b[0mmax_steps\u001b[0m\u001b[0;34m)\u001b[0m\u001b[0;34m\u001b[0m\u001b[0;34m\u001b[0m\u001b[0m\n\u001b[0m\u001b[1;32m     13\u001b[0m \u001b[0mprint\u001b[0m\u001b[0;34m(\u001b[0m\u001b[0;34m\"Necessary Joint Angles:\\n\"\u001b[0m\u001b[0;34m,\u001b[0m\u001b[0mnp\u001b[0m\u001b[0;34m.\u001b[0m\u001b[0marray\u001b[0m\u001b[0;34m(\u001b[0m\u001b[0mqf\u001b[0m\u001b[0;34m[\u001b[0m\u001b[0;36m1\u001b[0m\u001b[0;34m]\u001b[0m\u001b[0;34m[\u001b[0m\u001b[0;36m0\u001b[0m\u001b[0;34m]\u001b[0m\u001b[0;34m)\u001b[0m\u001b[0;34m)\u001b[0m\u001b[0;34m\u001b[0m\u001b[0;34m\u001b[0m\u001b[0m\n",
      "\u001b[0;32m~/.local/lib/python3.6/site-packages/general_robotics_toolbox/general_robotics_toolbox_invkin.py\u001b[0m in \u001b[0;36miterative_invkin\u001b[0;34m(robot, desired_pose, q_current, max_steps, Kp, KR, tol)\u001b[0m\n\u001b[1;32m    438\u001b[0m     \u001b[0;32mwhile\u001b[0m \u001b[0mitr\u001b[0m \u001b[0;34m<\u001b[0m \u001b[0mmax_steps\u001b[0m \u001b[0;32mand\u001b[0m \u001b[0;32mnot\u001b[0m \u001b[0mconverged\u001b[0m\u001b[0;34m:\u001b[0m\u001b[0;34m\u001b[0m\u001b[0;34m\u001b[0m\u001b[0m\n\u001b[1;32m    439\u001b[0m \u001b[0;34m\u001b[0m\u001b[0m\n\u001b[0;32m--> 440\u001b[0;31m         \u001b[0mpose\u001b[0m \u001b[0;34m=\u001b[0m \u001b[0mrox\u001b[0m\u001b[0;34m.\u001b[0m\u001b[0mfwdkin\u001b[0m\u001b[0;34m(\u001b[0m\u001b[0mrobot\u001b[0m\u001b[0;34m,\u001b[0m\u001b[0mq_cur\u001b[0m\u001b[0;34m.\u001b[0m\u001b[0mflatten\u001b[0m\u001b[0;34m(\u001b[0m\u001b[0;34m)\u001b[0m\u001b[0;34m,\u001b[0m\u001b[0m_ignore_limits\u001b[0m \u001b[0;34m=\u001b[0m \u001b[0;32mTrue\u001b[0m\u001b[0;34m)\u001b[0m\u001b[0;34m\u001b[0m\u001b[0;34m\u001b[0m\u001b[0m\n\u001b[0m\u001b[1;32m    441\u001b[0m         \u001b[0mR_cur\u001b[0m \u001b[0;34m=\u001b[0m \u001b[0mpose\u001b[0m\u001b[0;34m.\u001b[0m\u001b[0mR\u001b[0m\u001b[0;34m\u001b[0m\u001b[0;34m\u001b[0m\u001b[0m\n\u001b[1;32m    442\u001b[0m         \u001b[0mp_cur\u001b[0m \u001b[0;34m=\u001b[0m \u001b[0mpose\u001b[0m\u001b[0;34m.\u001b[0m\u001b[0mp\u001b[0m\u001b[0;34m\u001b[0m\u001b[0;34m\u001b[0m\u001b[0m\n",
      "\u001b[0;32m~/.local/lib/python3.6/site-packages/general_robotics_toolbox/general_robotics_toolbox.py\u001b[0m in \u001b[0;36mfwdkin\u001b[0;34m(robot, theta, _ignore_limits)\u001b[0m\n\u001b[1;32m    551\u001b[0m     \u001b[0;32mfor\u001b[0m \u001b[0mi\u001b[0m \u001b[0;32min\u001b[0m \u001b[0mxrange\u001b[0m\u001b[0;34m(\u001b[0m\u001b[0;36m0\u001b[0m\u001b[0;34m,\u001b[0m\u001b[0mlen\u001b[0m\u001b[0;34m(\u001b[0m\u001b[0mrobot\u001b[0m\u001b[0;34m.\u001b[0m\u001b[0mjoint_type\u001b[0m\u001b[0;34m)\u001b[0m\u001b[0;34m)\u001b[0m\u001b[0;34m:\u001b[0m\u001b[0;34m\u001b[0m\u001b[0;34m\u001b[0m\u001b[0m\n\u001b[1;32m    552\u001b[0m         \u001b[0;32mif\u001b[0m \u001b[0;34m(\u001b[0m\u001b[0mrobot\u001b[0m\u001b[0;34m.\u001b[0m\u001b[0mjoint_type\u001b[0m\u001b[0;34m[\u001b[0m\u001b[0mi\u001b[0m\u001b[0;34m]\u001b[0m \u001b[0;34m==\u001b[0m \u001b[0;36m0\u001b[0m \u001b[0;32mor\u001b[0m \u001b[0mrobot\u001b[0m\u001b[0;34m.\u001b[0m\u001b[0mjoint_type\u001b[0m\u001b[0;34m[\u001b[0m\u001b[0mi\u001b[0m\u001b[0;34m]\u001b[0m \u001b[0;34m==\u001b[0m \u001b[0;36m2\u001b[0m\u001b[0;34m)\u001b[0m\u001b[0;34m:\u001b[0m\u001b[0;34m\u001b[0m\u001b[0;34m\u001b[0m\u001b[0m\n\u001b[0;32m--> 553\u001b[0;31m             \u001b[0mR\u001b[0m \u001b[0;34m=\u001b[0m \u001b[0mnp\u001b[0m\u001b[0;34m.\u001b[0m\u001b[0mmatmul\u001b[0m\u001b[0;34m(\u001b[0m\u001b[0mR\u001b[0m\u001b[0;34m,\u001b[0m\u001b[0mrot\u001b[0m\u001b[0;34m(\u001b[0m\u001b[0mrobot\u001b[0m\u001b[0;34m.\u001b[0m\u001b[0mH\u001b[0m\u001b[0;34m[\u001b[0m\u001b[0;34m:\u001b[0m\u001b[0;34m,\u001b[0m\u001b[0;34m[\u001b[0m\u001b[0mi\u001b[0m\u001b[0;34m]\u001b[0m\u001b[0;34m]\u001b[0m\u001b[0;34m,\u001b[0m\u001b[0mtheta\u001b[0m\u001b[0;34m[\u001b[0m\u001b[0mi\u001b[0m\u001b[0;34m]\u001b[0m\u001b[0;34m)\u001b[0m\u001b[0;34m)\u001b[0m\u001b[0;34m\u001b[0m\u001b[0;34m\u001b[0m\u001b[0m\n\u001b[0m\u001b[1;32m    554\u001b[0m         \u001b[0;32melif\u001b[0m \u001b[0;34m(\u001b[0m\u001b[0mrobot\u001b[0m\u001b[0;34m.\u001b[0m\u001b[0mjoint_type\u001b[0m\u001b[0;34m[\u001b[0m\u001b[0mi\u001b[0m\u001b[0;34m]\u001b[0m \u001b[0;34m==\u001b[0m \u001b[0;36m1\u001b[0m \u001b[0;32mor\u001b[0m \u001b[0mrobot\u001b[0m\u001b[0;34m.\u001b[0m\u001b[0mjoint_type\u001b[0m\u001b[0;34m[\u001b[0m\u001b[0mi\u001b[0m\u001b[0;34m]\u001b[0m \u001b[0;34m==\u001b[0m \u001b[0;36m3\u001b[0m\u001b[0;34m)\u001b[0m\u001b[0;34m:\u001b[0m\u001b[0;34m\u001b[0m\u001b[0;34m\u001b[0m\u001b[0m\n\u001b[1;32m    555\u001b[0m             \u001b[0mp\u001b[0m \u001b[0;34m=\u001b[0m \u001b[0mp\u001b[0m \u001b[0;34m+\u001b[0m \u001b[0mtheta\u001b[0m\u001b[0;34m[\u001b[0m\u001b[0mi\u001b[0m\u001b[0;34m]\u001b[0m \u001b[0;34m*\u001b[0m \u001b[0mnp\u001b[0m\u001b[0;34m.\u001b[0m\u001b[0mmatmul\u001b[0m\u001b[0;34m(\u001b[0m\u001b[0mR\u001b[0m\u001b[0;34m,\u001b[0m\u001b[0mrobot\u001b[0m\u001b[0;34m.\u001b[0m\u001b[0mH\u001b[0m\u001b[0;34m[\u001b[0m\u001b[0;34m:\u001b[0m\u001b[0;34m,\u001b[0m\u001b[0;34m[\u001b[0m\u001b[0mi\u001b[0m\u001b[0;34m]\u001b[0m\u001b[0;34m]\u001b[0m\u001b[0;34m)\u001b[0m\u001b[0;34m\u001b[0m\u001b[0;34m\u001b[0m\u001b[0m\n",
      "\u001b[0;32m~/.local/lib/python3.6/site-packages/general_robotics_toolbox/general_robotics_toolbox.py\u001b[0m in \u001b[0;36mrot\u001b[0;34m(k, theta)\u001b[0m\n\u001b[1;32m     80\u001b[0m     \u001b[0mkhat\u001b[0m \u001b[0;34m=\u001b[0m \u001b[0mhat\u001b[0m\u001b[0;34m(\u001b[0m\u001b[0mk\u001b[0m\u001b[0;34m)\u001b[0m\u001b[0;34m\u001b[0m\u001b[0;34m\u001b[0m\u001b[0m\n\u001b[1;32m     81\u001b[0m     \u001b[0mkhat2\u001b[0m \u001b[0;34m=\u001b[0m \u001b[0mkhat\u001b[0m\u001b[0;34m.\u001b[0m\u001b[0mdot\u001b[0m\u001b[0;34m(\u001b[0m\u001b[0mkhat\u001b[0m\u001b[0;34m)\u001b[0m\u001b[0;34m\u001b[0m\u001b[0;34m\u001b[0m\u001b[0m\n\u001b[0;32m---> 82\u001b[0;31m     \u001b[0;32mreturn\u001b[0m \u001b[0mI\u001b[0m \u001b[0;34m+\u001b[0m \u001b[0mmath\u001b[0m\u001b[0;34m.\u001b[0m\u001b[0msin\u001b[0m\u001b[0;34m(\u001b[0m\u001b[0mtheta\u001b[0m\u001b[0;34m)\u001b[0m\u001b[0;34m*\u001b[0m\u001b[0mkhat\u001b[0m \u001b[0;34m+\u001b[0m \u001b[0;34m(\u001b[0m\u001b[0;36m1.0\u001b[0m \u001b[0;34m-\u001b[0m \u001b[0mmath\u001b[0m\u001b[0;34m.\u001b[0m\u001b[0mcos\u001b[0m\u001b[0;34m(\u001b[0m\u001b[0mtheta\u001b[0m\u001b[0;34m)\u001b[0m\u001b[0;34m)\u001b[0m\u001b[0;34m*\u001b[0m\u001b[0mkhat2\u001b[0m\u001b[0;34m\u001b[0m\u001b[0;34m\u001b[0m\u001b[0m\n\u001b[0m\u001b[1;32m     83\u001b[0m \u001b[0;34m\u001b[0m\u001b[0m\n\u001b[1;32m     84\u001b[0m \u001b[0;32mdef\u001b[0m \u001b[0mR2rot\u001b[0m\u001b[0;34m(\u001b[0m\u001b[0mR\u001b[0m\u001b[0;34m)\u001b[0m\u001b[0;34m:\u001b[0m\u001b[0;34m\u001b[0m\u001b[0;34m\u001b[0m\u001b[0m\n",
      "\u001b[0;31mKeyboardInterrupt\u001b[0m: "
     ]
    }
   ],
   "source": [
    "# desired rotation matrix\n",
    "Rf = np.array([[0,0,-1],[0,-1,0],[-1,0,0]])\n",
    "# desired position matrix\n",
    "Pf = [0.0,0,0.398]\n",
    "# make desired transformation\n",
    "Tf = grt.Transform(Rf,Pf)\n",
    "# and calculate inverse kinematics\n",
    "max_steps=200\n",
    "qf = grt_ik.iterative_invkin(robot,Tf,q0,max_steps)\n",
    "while(qf[0]!=True): #if the inverse kinematics does not converge\n",
    "    max_steps*=2\n",
    "    qf = grt_ik.iterative_invkin(robot,Tf,q0,max_steps)\n",
    "print(\"Necessary Joint Angles:\\n\",np.array(qf[1][0]))"
   ]
  },
  {
   "cell_type": "code",
   "execution_count": 9,
   "metadata": {},
   "outputs": [],
   "source": [
    "# send these joint angles to servo to have the robot move to desired position\n",
    "desired_joints_degrees = np.array(qf[1][0])*180/math.pi\n",
    "Arm.Arm_serial_servo_write6(desired_joints_degrees[0], desired_joints_degrees[1], desired_joints_degrees[2], \\\n",
    "                            desired_joints_degrees[3], desired_joints_degrees[4], 155, 1100)"
   ]
  },
  {
   "cell_type": "code",
   "execution_count": null,
   "metadata": {},
   "outputs": [],
   "source": []
  },
  {
   "cell_type": "code",
   "execution_count": 18,
   "metadata": {},
   "outputs": [
    {
     "name": "stdout",
     "output_type": "stream",
     "text": [
      "[ 0.  0. -1.  0.  1. -2.]\n",
      "hi\n",
      "hi\n",
      "hi\n",
      "hi\n",
      "[ 0.  0.  0.  0.  0. -1.]\n",
      "[ 0.   -0.25  0.   -2.    0.   -1.  ]\n",
      "hi\n",
      "hi\n",
      "[ 0.   -0.25  0.    0.    0.   -1.  ]\n",
      "[ 0.   0.5  0.  -1.   0.  -2. ]\n",
      "hi\n",
      "[ 0.   0.5  0.  -1.   0.  -1. ]\n",
      "[ 0.   -0.75  0.   -1.    0.   -2.  ]\n",
      "hi\n",
      "hi\n",
      "hi\n",
      "hi\n",
      "hi\n",
      "hi\n",
      "hi\n",
      "hi\n",
      "hi\n",
      "hi\n",
      "hi\n",
      "[ 0.    0.25  0.    0.    0.   -1.  ]\n",
      "[ 0. -1.  0. -1.  0. -2.]\n",
      "hi\n",
      "[ 0. -1.  0. -1.  0. -1.]\n",
      "[ 0.   -0.25  0.   -1.    0.   -1.  ]\n",
      "[ 0.   -0.25  0.   -1.    0.   -1.  ]\n"
     ]
    }
   ],
   "source": [
    "#Path Following\n",
    "#ath_done = false\n",
    "start = np.array([90,90,90,90,90,15])\n",
    "end = np.array([90,65,22,70,90,15])\n",
    "\n",
    "kp = .5\n",
    "\n",
    "q_des = path_generation.gen_joint_space_path(start, end, 5)\n",
    "\n",
    "for i in range(len(q_des)):\n",
    "\n",
    "        move_read.move_bot(q_des[i])\n",
    "\n",
    "        q_act = move_read.read_joints()\n",
    "\n",
    "        error = q_des[i] - q_act\n",
    "\n",
    "        print(error)\n",
    "\n",
    "        er = max(abs(error))\n",
    "\n",
    "        while abs(er) > 1:\n",
    "\n",
    "            print('hi')\n",
    "\n",
    "            q_command = q_des[i] + kp * error\n",
    "\n",
    "            move_read.move_bot(q_command)\n",
    "\n",
    "            q_act_new = move_read.read_joints()\n",
    "\n",
    "            error = q_des[i] - q_act_new\n",
    "\n",
    "            er = max(abs(error))\n",
    "\n",
    "        print(error)\n",
    "    \n",
    "    \n",
    "    \n",
    "    \n",
    "        \n",
    "        \n",
    "\n",
    "    \n",
    "    \n",
    "    \n",
    "    "
   ]
  },
  {
   "cell_type": "code",
   "execution_count": null,
   "metadata": {},
   "outputs": [],
   "source": []
  }
 ],
 "metadata": {
  "kernelspec": {
   "display_name": "Python 3",
   "language": "python",
   "name": "python3"
  },
  "language_info": {
   "codemirror_mode": {
    "name": "ipython",
    "version": 3
   },
   "file_extension": ".py",
   "mimetype": "text/x-python",
   "name": "python",
   "nbconvert_exporter": "python",
   "pygments_lexer": "ipython3",
   "version": "3.6.9"
  }
 },
 "nbformat": 4,
 "nbformat_minor": 4
}
