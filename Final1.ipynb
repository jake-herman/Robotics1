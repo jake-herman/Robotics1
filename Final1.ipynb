{
 "cells": [
  {
   "cell_type": "markdown",
   "metadata": {},
   "source": [
    "# Team 7 - Garbage DumPY\n",
    "## Demonstration of Basic Forward and Inverse Kinematics\n",
    "### MANE 4120/6120 - Robotics 1 - Fall 2023"
   ]
  },
  {
   "cell_type": "markdown",
   "metadata": {},
   "source": [
    "1. Import RPI Robotics Toolbox, Yahboom Jetson DOFBOT Code, etc, and Initialize Robot Object"
   ]
  },
  {
   "cell_type": "code",
   "execution_count": 5,
   "metadata": {},
   "outputs": [
    {
     "name": "stdout",
     "output_type": "stream",
     "text": [
      "Initial Joints:\n",
      " [1.57079633 1.13446401 0.08726646 1.22173048 1.57079633]\n",
      "Expected Transform:\n",
      " R = [[-0.     -0.     -1.    ]\n",
      "     [-0.766   0.6428  0.    ]\n",
      "     [ 0.6428  0.766  -0.    ]]\n",
      "p = [0.     0.2112 0.0687]\n",
      "\n",
      "\n",
      "[90. 70.  5. 56. 90. 14.]\n",
      "Necessary Joint Angles:\n",
      " [1.89204041e-04 1.57059102e+00 1.75007333e-01 7.85128857e-01\n",
      " 1.57071721e+00]\n",
      "[array([89., 70.,  5., 56., 90., 90.]), array([80.10108406, 71.99882369,  5.50271815, 54.89845699, 89.99954668,\n",
      "       91.1       ]), array([71.20216812, 73.99764739,  6.00543631, 53.79691397, 89.99909335,\n",
      "       92.2       ]), array([62.30325218, 75.99647108,  6.50815446, 52.69537096, 89.99864003,\n",
      "       93.3       ]), array([53.40433624, 77.99529478,  7.01087262, 51.59382794, 89.99818671,\n",
      "       94.4       ]), array([44.5054203 , 79.99411847,  7.51359077, 50.49228493, 89.99773338,\n",
      "       95.5       ]), array([35.60650436, 81.99294217,  8.01630892, 49.39074192, 89.99728006,\n",
      "       96.6       ]), array([26.70758842, 83.99176586,  8.51902708, 48.2891989 , 89.99682674,\n",
      "       97.7       ]), array([17.80867247, 85.99058956,  9.02174523, 47.18765589, 89.99637341,\n",
      "       98.8       ]), array([ 8.90975653, 87.98941325,  9.52446339, 46.08611287, 89.99592009,\n",
      "       99.9       ]), array([1.08405930e-02, 8.99882369e+01, 1.00271815e+01, 4.49845699e+01,\n",
      "       8.99954668e+01, 1.01000000e+02])]\n",
      "[[ 8.00000000e+00 -1.00000000e+00  0.00000000e+00  0.00000000e+00\n",
      "   0.00000000e+00 -2.50000000e+01]\n",
      " [ 1.55441739e+00  8.17157028e-01  5.02718154e-01 -1.10154301e+00\n",
      "  -4.53323499e-04 -4.41666667e-01]\n",
      " [-1.49907388e+00  1.07662045e+00  1.06324890e+00 -1.32976347e+00\n",
      "  -9.58779201e-04  1.77420833e+00]\n",
      " [-7.25825058e-01  1.11753979e+00  6.37968857e-01 -4.74074987e-01\n",
      "  -1.47702996e-03  1.12240896e+00]\n",
      " [-5.58303492e-01  1.13721852e+00  1.10772854e+00 -4.97160277e-01\n",
      "  -2.00433398e-03  1.17406516e+00]\n",
      " [-1.44884183e+00  1.15506836e+00  6.74038591e-01 -6.08469224e-01\n",
      "  -2.54045290e-03  2.96841752e-01]\n",
      " [-1.45854423e+00  1.17300307e+00  1.14349833e+00 -7.30270171e-01\n",
      "  -3.08549508e-03  1.31357204e+00]\n",
      " [-1.38030857e+00  1.19121528e+00  1.71031493e+00 -8.54947333e-01\n",
      "  -3.63960522e-03  5.34948647e-01]\n",
      " [-1.29210558e+00  1.20972842e+00  1.29536947e+00 -9.81782273e-01\n",
      "  -4.20293382e-03  5.65110538e-01]\n",
      " [-1.20158280e+00  1.22854936e+00  7.76023620e-01 -1.11073552e+00\n",
      "  -4.77563418e-03  6.76603385e-01]\n",
      " [-2.10947021e+00  1.24768339e+00  1.23844754e+00 -1.24183489e+00\n",
      "  -5.35786223e-03  7.97901721e-01]]\n",
      "dropped\n",
      "[44. 70.  9. 41. 90. 15.]\n",
      "[array([nan, 70.,  9., 41., 90., 15.]), array([        nan, 71.99882369,  9.10271815, 41.39845699, 89.99954668,\n",
      "       15.1       ]), array([        nan, 73.99764739,  9.20543631, 41.79691397, 89.99909335,\n",
      "       15.2       ]), array([        nan, 75.99647108,  9.30815446, 42.19537096, 89.99864003,\n",
      "       15.3       ]), array([        nan, 77.99529478,  9.41087262, 42.59382794, 89.99818671,\n",
      "       15.4       ]), array([        nan, 79.99411847,  9.51359077, 42.99228493, 89.99773338,\n",
      "       15.5       ]), array([        nan, 81.99294217,  9.61630892, 43.39074192, 89.99728006,\n",
      "       15.6       ]), array([        nan, 83.99176586,  9.71902708, 43.7891989 , 89.99682674,\n",
      "       15.7       ]), array([        nan, 85.99058956,  9.82174523, 44.18765589, 89.99637341,\n",
      "       15.8       ]), array([        nan, 87.98941325,  9.92446339, 44.58611287, 89.99592009,\n",
      "       15.9       ]), array([        nan, 89.98823695, 10.02718154, 44.98456986, 89.99546677,\n",
      "       16.        ])]\n",
      "Arm_serial_servo_write6 I2C error\n",
      "Arm_serial_servo_write6 I2C error\n",
      "Arm_serial_servo_write6 I2C error\n",
      "Arm_serial_servo_write6 I2C error\n",
      "Arm_serial_servo_write6 I2C error\n",
      "Arm_serial_servo_write6 I2C error\n",
      "Arm_serial_servo_write6 I2C error\n",
      "Arm_serial_servo_write6 I2C error\n",
      "Arm_serial_servo_write6 I2C error\n",
      "Arm_serial_servo_write6 I2C error\n",
      "Arm_serial_servo_write6 I2C error\n",
      "[[            nan  0.00000000e+00 -1.00000000e+00  0.00000000e+00\n",
      "   0.00000000e+00 -1.27000000e+02]\n",
      " [            nan  1.99882369e+00 -1.07894851e+00  3.98456986e-01\n",
      "  -4.53323499e-04 -1.49971667e+02]\n",
      " [            nan  4.22751211e+00 -9.33642771e-01  8.42736525e-01\n",
      "  -9.58779201e-04 -1.45951742e+02]\n",
      " [            nan  6.51261733e+00 -8.30398684e-01  1.29826251e+00\n",
      "  -1.47702996e-03 -1.47639025e+02]\n",
      " [            nan  8.83764081e+00 -7.29812102e-01  1.76174604e+00\n",
      "  -2.00433398e-03 -1.49922339e+02]\n",
      " [            nan  1.12015315e+01 -6.27982471e-01  2.23297756e+00\n",
      "  -2.54045290e-03 -1.52299505e+02]\n",
      " [            nan  1.36047672e+01 -5.24501091e-01  2.71205237e+00\n",
      "  -3.08549508e-03 -1.54721715e+02]\n",
      " [            nan  1.60479860e+01 -4.19302315e-01  3.19909762e+00\n",
      "  -3.63960522e-03 -1.57184761e+02]\n",
      " [            nan  1.85318513e+01 -3.12353819e-01  3.69424559e+00\n",
      "  -4.20293382e-03 -1.59688837e+02]\n",
      " [            nan  2.10570393e+01 -2.03626122e-01  4.19763106e+00\n",
      "  -4.77563418e-03 -1.62234578e+02]\n",
      " [            nan  2.36242374e+01 -9.30895904e-02  4.70939106e+00\n",
      "  -5.35786223e-03 -1.64822670e+02]]\n"
     ]
    }
   ],
   "source": [
    "import general_robotics_toolbox.general_robotics_toolbox as grt\n",
    "import general_robotics_toolbox.general_robotics_toolbox_invkin as grt_ik\n",
    "import Arm, Dofbot\n",
    "from Arm_Lib import Arm_Device\n",
    "import time\n",
    "import numpy as np\n",
    "import math\n",
    "import path_generation\n",
    "import move_read\n",
    "\n",
    "# Define all the joint lengths [m]\n",
    "l0 = 61 * 10**-3\n",
    "l1 = 43.5 * 10**-3\n",
    "l2 = 82.85 * 10**-3\n",
    "l3 = 82.85 * 10**-3\n",
    "l4 = 73.85 * 10**-3\n",
    "l5 = 54.57 * 10**-3\n",
    "\n",
    "\n",
    "# define the unit vectors\n",
    "ex = np.array([1, 0, 0])\n",
    "ey = np.array([0, 1, 0])\n",
    "ez = np.array([0, 0, 1])\n",
    "\n",
    "\n",
    "# Define the position vectors from i-1 -> i\n",
    "P01 = (l0 + l1) * ez\n",
    "P12 = np.zeros(3)\n",
    "P23 = l2 * ex\n",
    "P34 = -1*l3 * ez\n",
    "P45 = np.zeros(3)\n",
    "P5T = -1*(l4 + l5) * ex\n",
    "\n",
    "# define the class inputs: rotation axes (H), position vectors (P), and joint_type\n",
    "H = np.array([ez, -1*ey, -1*ey, -1*ey, -1*ex]).T\n",
    "P = np.array([P01, P12, P23, P34, P45, P5T]).T\n",
    "joint_type = [0,0,0,0,0]\n",
    "\n",
    " \n",
    "# define the Robot object\n",
    "robot = grt.Robot(H, P, joint_type)\n",
    "\n",
    "# initialize servo arm\n",
    "Arm = Arm_Device()\n",
    "\n",
    "# Set the bot to be vertical\n",
    "#Arm.Arm_serial_servo_write6(0,90,10,45,90,15,1100)\n",
    "start = np.array([90,90,90,90,90,15])\n",
    "move_read.move_bot(start)\n",
    "# THE SERVO ANGLE (the 6th variable) CAN NOT BE ZERO OR IT WILL BREAK THE SERVO\n",
    "# It must be between 5 and 180\n",
    "\n",
    "# initialize joint angles, radians\n",
    "q0 = np.array([90,65,5,70,90])*math.pi/180\n",
    "\n",
    "print(\"Initial Joints:\\n\",q0)\n",
    "# and compute path\n",
    "p = grt.fwdkin(robot,q0)\n",
    "print(\"Expected Transform:\\n\",p)\n",
    "\n",
    "\n",
    "    #End position from FK\n",
    "block_1 = np.array([90,70,5,55,90,15])\n",
    "\n",
    "#Generating path\n",
    "q_des = path_generation.gen_joint_space_path(start, block_1, 5)\n",
    "\n",
    "#Moving arm through path\n",
    "path_generation.path_follow(q_des,1.5,5)\n",
    "    \n",
    "print(move_read.read_joints())\n",
    "\n",
    "#Grabbing block\n",
    "Arm.Arm_serial_servo_write(6, 155, 400)\n",
    "\n",
    "\n",
    "# desired rotation matrix\n",
    "Rf = np.array([[-0.8192,0.5736,0],[0,0,1],[.5736,.8192,0]])\n",
    "# desired position matrix\n",
    "Pf = [0.1868,0,0.1281]\n",
    "# make desired transformation\n",
    "Tf = grt.Transform(Rf,Pf)\n",
    "# and calculate inverse kinematics\n",
    "#DO NOT OVERWRITE QF (DUMPER LOCATION)\n",
    "max_steps=200\n",
    "qf = grt_ik.iterative_invkin(robot,Tf,q0,max_steps)\n",
    "while(qf[0]!=True): #if the inverse kinematics does not converge\n",
    "    max_steps*=2\n",
    "    qf = grt_ik.iterative_invkin(robot,Tf,q0,max_steps)\n",
    "print(\"Necessary Joint Angles:\\n\",np.array(qf[1][0]))\n",
    "\n",
    "\n",
    "#Dump Block\n",
    "start_garb_place = move_read.read_joints()\n",
    "end_garb_place = np.append(np.array(qf[1][0])*180/math.pi, move_read.read_joints()[5])\n",
    "\n",
    "steps = 10\n",
    "time = 1.5\n",
    "kp = .1\n",
    "ki = .1\n",
    "kd = .01\n",
    "\n",
    "q_des = path_generation.gen_joint_space_path(start_garb_place, end_garb_place, steps)\n",
    "print(q_des)\n",
    "\n",
    "error = path_generation.pid_path_follow(q_des, time, steps, kp, ki, kd)\n",
    "print(error)\n",
    "\n",
    "Arm.Arm_serial_servo_write(6, 125, 400)\n",
    "print('dropped')\n",
    "\n",
    "\n",
    "# initialize joint angles\n",
    "q2 = np.array([45,70,10,40,90])\n",
    "\n",
    "#print(\"Initial Joints:\\n\",q2)\n",
    "# and compute path\n",
    "p = grt.fwdkin(robot,q2)\n",
    "#print(\"Expected Transform:\\n\",p)\n",
    "\n",
    "#End position from FK\n",
    "start2 = move_read.read_joints()\n",
    "end2 = np.array([45,70,10,40,90,15])\n",
    "\n",
    "#Generating path\n",
    "q_des2 = path_generation.gen_joint_space_path(start2, end2, 5)\n",
    "\n",
    "#Moving arm through path\n",
    "path_generation.path_follow(q_des2,2,5)\n",
    "    \n",
    "print(move_read.read_joints())\n",
    "\n",
    "#Grabbing block\n",
    "Arm.Arm_serial_servo_write(6, 155, 400)\n",
    "\n",
    "#Path Following\n",
    "\n",
    "start_garb_place = move_read.read_joints()\n",
    "end_garb_place = np.append(np.array(qf[1][0])*180/math.pi, move_read.read_joints()[5])\n",
    "\n",
    "steps = 10\n",
    "time = 1.5\n",
    "kp = .1\n",
    "ki = .1\n",
    "kd = .01\n",
    "\n",
    "q_des = path_generation.gen_joint_space_path(start_garb_place, end_garb_place, steps)\n",
    "print(q_des)\n",
    "\n",
    "error = path_generation.pid_path_follow(q_des, time, steps, kp, ki, kd)\n",
    "\n",
    "print(error)\n",
    "\n",
    "\n",
    "\n"
   ]
  },
  {
   "cell_type": "markdown",
   "metadata": {},
   "source": [
    "4. Perform Inverse Kinematics"
   ]
  },
  {
   "cell_type": "code",
   "execution_count": 10,
   "metadata": {},
   "outputs": [
    {
     "name": "stdout",
     "output_type": "stream",
     "text": [
      "Necessary Joint Angles:\n",
      " [1.89204041e-04 1.57059102e+00 1.75007333e-01 7.85128857e-01\n",
      " 1.57071721e+00]\n"
     ]
    }
   ],
   "source": [
    "# desired rotation matrix\n",
    "Rf = np.array([[-0.8192,0.5736,0],[0,0,1],[.5736,.8192,0]])\n",
    "# desired position matrix\n",
    "Pf = [0.1868,0,0.1281]\n",
    "# make desired transformation\n",
    "Tf = grt.Transform(Rf,Pf)\n",
    "# and calculate inverse kinematics\n",
    "#DO NOT OVERWRITE QF (DUMPER LOCATION)\n",
    "max_steps=200\n",
    "qf = grt_ik.iterative_invkin(robot,Tf,q0,max_steps)\n",
    "while(qf[0]!=True): #if the inverse kinematics does not converge\n",
    "    max_steps*=2\n",
    "    qf = grt_ik.iterative_invkin(robot,Tf,q0,max_steps)\n",
    "print(\"Necessary Joint Angles:\\n\",np.array(qf[1][0]))\n"
   ]
  },
  {
   "cell_type": "code",
   "execution_count": 11,
   "metadata": {},
   "outputs": [
    {
     "name": "stdout",
     "output_type": "stream",
     "text": [
      "[array([ 89.,  70.,   5.,  56.,  90., 154.]), array([ 80.10108406,  71.99882369,   5.50271815,  54.89845699,\n",
      "        89.99954668, 154.        ]), array([ 71.20216812,  73.99764739,   6.00543631,  53.79691397,\n",
      "        89.99909335, 154.        ]), array([ 62.30325218,  75.99647108,   6.50815446,  52.69537096,\n",
      "        89.99864003, 154.        ]), array([ 53.40433624,  77.99529478,   7.01087262,  51.59382794,\n",
      "        89.99818671, 154.        ]), array([ 44.5054203 ,  79.99411847,   7.51359077,  50.49228493,\n",
      "        89.99773338, 154.        ]), array([ 35.60650436,  81.99294217,   8.01630892,  49.39074192,\n",
      "        89.99728006, 154.        ]), array([ 26.70758842,  83.99176586,   8.51902708,  48.2891989 ,\n",
      "        89.99682674, 154.        ]), array([ 17.80867247,  85.99058956,   9.02174523,  47.18765589,\n",
      "        89.99637341, 154.        ]), array([  8.90975653,  87.98941325,   9.52446339,  46.08611287,\n",
      "        89.99592009, 154.        ]), array([1.08405930e-02, 8.99882369e+01, 1.00271815e+01, 4.49845699e+01,\n",
      "       8.99954668e+01, 1.54000000e+02])]\n",
      "[[ 7.00000000e+00  0.00000000e+00  0.00000000e+00  0.00000000e+00\n",
      "   0.00000000e+00  0.00000000e+00]\n",
      " [ 3.18275073e+00  9.98823695e-01  5.02718154e-01 -1.10154301e+00\n",
      "  -4.53323499e-04  0.00000000e+00]\n",
      " [-3.47513245e+00  9.41535781e-01  1.48050496e+00 -1.24404418e+00\n",
      "  -1.33503771e-03  0.00000000e+00]\n",
      " [-1.52252420e+00  9.31169464e-01  9.29853970e-01 -5.29820225e-01\n",
      "  -2.64198069e-03  1.00000000e+00]\n",
      " [-7.32606309e-01  9.62566099e-01  9.78829658e-01 -1.01240359e+00\n",
      "  -4.39044200e-03  1.94500000e+00]\n",
      " [-1.95356343e+00  1.03296224e+00  1.56967327e+00 -5.93829798e-01\n",
      "  -6.61495057e-03  8.83025000e-01]\n",
      " [-2.03925114e+00  1.14162576e+00  6.74785963e-01 -1.34537874e+00\n",
      "  -9.36800457e-03 -3.30163750e-02]\n",
      " [-1.10705232e+00  1.28961979e+00  4.02470914e-01 -1.18385784e+00\n",
      "  -1.27206369e-02  1.14106065e+00]\n",
      " [-1.21680667e+00  1.47967099e+00  6.78216715e-01 -1.19330565e+00\n",
      "  -1.67637581e-02  2.24907770e+00]\n",
      " [-1.26925783e+00  7.16125971e-01  1.45962584e+00 -3.57050452e-01\n",
      "  -2.16102598e-02  1.34750155e+00]\n",
      " [-1.27249642e+00  1.05998481e+00  7.31295372e-01 -7.22031055e-01\n",
      "  -2.73978965e-02 -4.03279424e-01]]\n",
      "[  0.  90.  11.  45.  90. 156.]\n"
     ]
    }
   ],
   "source": [
    "#Path Following\n",
    "\n",
    "start_garb_place = move_read.read_joints()\n",
    "end_garb_place = np.append(np.array(qf[1][0])*180/math.pi, move_read.read_joints()[5])\n",
    "\n",
    "steps = 10\n",
    "time = 1.5\n",
    "kp = .9\n",
    "ki = .3\n",
    "kd = .01\n",
    "\n",
    "q_des = path_generation.gen_joint_space_path(start_garb_place, end_garb_place, steps)\n",
    "print(q_des)\n",
    "\n",
    "error = path_generation.pid_path_follow(q_des, time, steps, kp, ki, kd)\n",
    "\n",
    "print(error)\n",
    "\n",
    "print(move_read.read_joints())"
   ]
  },
  {
   "cell_type": "code",
   "execution_count": 7,
   "metadata": {},
   "outputs": [
    {
     "name": "stdout",
     "output_type": "stream",
     "text": [
      "[0. 0. 0. 0. 0. 0.]\n",
      "[0. 0. 0. 0. 0. 0.]\n",
      "[ 0.00216812 -0.00235261 -0.19456369 -0.00308603 -0.00090665  0.        ]\n",
      "[ 0.00216812 -0.00235261 -0.19456369 -0.00308603 -0.00090665  0.        ]\n",
      "[ 0.00433624 -0.00470522 -0.38912738 -0.00617206 -0.00181329  0.        ]\n",
      "[ 0.00433624 -0.00470522 -0.38912738 -0.00617206 -0.00181329  0.        ]\n",
      "[ 0.00650436 -0.00705783 -0.58369108 -0.00925808 -0.00271994  0.        ]\n",
      "[ 0.00650436 -0.00705783 -0.58369108 -0.00925808 -0.00271994  0.        ]\n",
      "[ 0.00867247 -0.00941044 -0.77825477 -0.01234411 -0.00362659  0.        ]\n",
      "[ 0.00867247 -0.00941044 -0.77825477 -0.01234411 -0.00362659  0.        ]\n",
      "[ 0.01084059 -0.01176305 -0.97281846 -0.01543014 -0.00453323  0.        ]\n",
      "[ 0.01084059 -0.01176305 -0.97281846 -0.01543014 -0.00453323  0.        ]\n",
      "done\n"
     ]
    }
   ],
   "source": [
    "#Path Following\n",
    "\n",
    "start_garb_place = move_read.read_joints()\n",
    "end_garb_place = np.append(np.array(qf[1][0])*180/math.pi, move_read.read_joints()[5])\n",
    "\n",
    "kp = 1.2\n",
    "\n",
    "q_des = path_generation.gen_joint_space_path(start_garb_place, end_garb_place, 5)\n",
    "\n",
    "for i in range(len(q_des)):\n",
    "\n",
    "        move_read.move_bot(q_des[i])\n",
    "\n",
    "        q_act = move_read.read_joints()\n",
    "\n",
    "        error = q_des[i] - q_act\n",
    "\n",
    "        print(error)\n",
    "\n",
    "        er = max(abs(error))\n",
    "\n",
    "        while abs(er) > 1:\n",
    "\n",
    "            print('hi')\n",
    "\n",
    "            q_command = q_des[i] + kp * error\n",
    "\n",
    "            move_read.move_bot(q_command)\n",
    "\n",
    "            q_act_new = move_read.read_joints()\n",
    "\n",
    "            error = q_des[i] - q_act_new\n",
    "\n",
    "            er = max(abs(error))\n",
    "\n",
    "        print(error)\n",
    "print('done')"
   ]
  },
  {
   "cell_type": "code",
   "execution_count": 12,
   "metadata": {},
   "outputs": [],
   "source": [
    "#Releasing block\n",
    "Arm.Arm_serial_servo_write(6, 125, 400)"
   ]
  },
  {
   "cell_type": "markdown",
   "metadata": {},
   "source": [
    "Block 2"
   ]
  },
  {
   "cell_type": "code",
   "execution_count": 13,
   "metadata": {},
   "outputs": [
    {
     "name": "stdout",
     "output_type": "stream",
     "text": [
      "Initial Joints:\n",
      " [45 70 10 40 90]\n",
      "Expected Transform:\n",
      " R = [[ 0.4277  0.6539 -0.624 ]\n",
      "     [ 0.6928  0.2063  0.691 ]\n",
      "     [ 0.5806 -0.7279 -0.3648]]\n",
      "p = [-0.0706 -0.1144  0.1032]\n",
      "\n",
      "\n"
     ]
    }
   ],
   "source": [
    "# initialize joint angles, radians\n",
    "q2 = np.array([45,70,10,40,90])\n",
    "\n",
    "print(\"Initial Joints:\\n\",q2)\n",
    "# and compute path\n",
    "p = grt.fwdkin(robot,q2)\n",
    "print(\"Expected Transform:\\n\",p)"
   ]
  },
  {
   "cell_type": "code",
   "execution_count": 14,
   "metadata": {},
   "outputs": [
    {
     "name": "stdout",
     "output_type": "stream",
     "text": [
      "[44. 70. 11. 41. 90. 15.]\n"
     ]
    }
   ],
   "source": [
    "#End position from FK\n",
    "start2 = move_read.read_joints()\n",
    "end2 = np.array([45,70,10,40,90,15])\n",
    "\n",
    "#Generating path\n",
    "q_des2 = path_generation.gen_joint_space_path(start2, end2, 5)\n",
    "\n",
    "#Moving arm through path\n",
    "path_generation.path_follow(q_des2,2,5)\n",
    "    \n",
    "print(move_read.read_joints())\n",
    "\n",
    "#Grabbing block\n",
    "Arm.Arm_serial_servo_write(6, 155, 400)"
   ]
  },
  {
   "cell_type": "code",
   "execution_count": 15,
   "metadata": {},
   "outputs": [
    {
     "name": "stdout",
     "output_type": "stream",
     "text": [
      "[0. 0. 0. 0. 0. 0.]\n",
      "[0. 0. 0. 0. 0. 0.]\n",
      "[ 2.02168119e-01  9.97647390e-01 -1.94563692e-01  7.96913972e-01\n",
      " -9.06646999e-04  0.00000000e+00]\n",
      "[ 2.02168119e-01  9.97647390e-01 -1.94563692e-01  7.96913972e-01\n",
      " -9.06646999e-04  0.00000000e+00]\n",
      "[ 0.40433624  0.99529478 -0.38912738  0.59382794 -0.00181329  1.        ]\n",
      "[ 0.40433624  0.99529478 -0.38912738  0.59382794 -0.00181329  1.        ]\n",
      "[-0.39349564  0.99294217 -0.58369108  0.39074192 -0.00271994  1.        ]\n",
      "[-0.39349564  0.99294217 -0.58369108  0.39074192 -0.00271994  1.        ]\n",
      "[-0.19132753         nan -0.77825477  0.18765589 -0.00362659  1.        ]\n",
      "[-0.19132753         nan -0.77825477  0.18765589 -0.00362659  1.        ]\n",
      "[ 0.01084059  0.98823695 -0.97281846  0.98456986 -0.00453323  1.        ]\n",
      "[ 0.01084059  0.98823695 -0.97281846  0.98456986 -0.00453323  1.        ]\n",
      "done\n"
     ]
    }
   ],
   "source": [
    "#Path Following\n",
    "\n",
    "start_garb_place = move_read.read_joints()\n",
    "end_garb_place = np.append(np.array(qf[1][0])*180/math.pi, move_read.read_joints()[5])\n",
    "\n",
    "kp = 1.2\n",
    "\n",
    "q_des = path_generation.gen_joint_space_path(start_garb_place, end_garb_place, 5)\n",
    "\n",
    "for i in range(len(q_des)):\n",
    "\n",
    "        move_read.move_bot(q_des[i])\n",
    "\n",
    "        q_act = move_read.read_joints()\n",
    "\n",
    "        error = q_des[i] - q_act\n",
    "\n",
    "        print(error)\n",
    "\n",
    "        er = max(abs(error))\n",
    "\n",
    "        while abs(er) > 1:\n",
    "\n",
    "            print('hi')\n",
    "\n",
    "            q_command = q_des[i] + kp * error\n",
    "\n",
    "            move_read.move_bot(q_command)\n",
    "\n",
    "            q_act_new = move_read.read_joints()\n",
    "\n",
    "            error = q_des[i] - q_act_new\n",
    "\n",
    "            er = max(abs(error))\n",
    "\n",
    "        print(error)\n",
    "print('done')"
   ]
  },
  {
   "cell_type": "code",
   "execution_count": 16,
   "metadata": {},
   "outputs": [],
   "source": [
    "#Releasing block\n",
    "Arm.Arm_serial_servo_write(6, 125, 400)"
   ]
  },
  {
   "cell_type": "markdown",
   "metadata": {},
   "source": [
    "BLOCK 3"
   ]
  },
  {
   "cell_type": "code",
   "execution_count": 12,
   "metadata": {},
   "outputs": [
    {
     "name": "stdout",
     "output_type": "stream",
     "text": [
      "Initial Joints:\n",
      " [135  70  10  40  90  15]\n",
      "Expected Transform:\n",
      " R = [[-0.811  -0.4774 -0.3381]\n",
      "     [ 0.0719  0.4922 -0.8675]\n",
      "     [ 0.5806 -0.7279 -0.3648]]\n",
      "p = [ 0.1339 -0.0119  0.1032]\n",
      "\n",
      "\n"
     ]
    }
   ],
   "source": [
    "# initialize joint angles, radians\n",
    "q3 = np.array([135,70,10,40,90,15])\n",
    "\n",
    "print(\"Initial Joints:\\n\",q3)\n",
    "# and compute path\n",
    "p = grt.fwdkin(robot,q3)\n",
    "print(\"Expected Transform:\\n\",p)"
   ]
  },
  {
   "cell_type": "code",
   "execution_count": 13,
   "metadata": {},
   "outputs": [
    {
     "name": "stdout",
     "output_type": "stream",
     "text": [
      "[134.  70.  10.  41.  90.  17.]\n"
     ]
    }
   ],
   "source": [
    "#End position from FK\n",
    "start3 = move_read.read_joints()\n",
    "end3 = np.array([135,70,10,40,90,15])\n",
    "\n",
    "#Generating path\n",
    "q_des3 = path_generation.gen_joint_space_path(start3, end3, 5)\n",
    "\n",
    "#Moving arm through path\n",
    "path_generation.path_follow(q_des3,2,5)\n",
    "    \n",
    "print(move_read.read_joints())\n",
    "\n",
    "#Grabbing block\n",
    "Arm.Arm_serial_servo_write(6, 155, 400)"
   ]
  },
  {
   "cell_type": "code",
   "execution_count": 14,
   "metadata": {},
   "outputs": [
    {
     "name": "stdout",
     "output_type": "stream",
     "text": [
      "[0. 0. 0. 0. 0. 0.]\n",
      "[0. 0. 0. 0. 0. 0.]\n",
      "[0.20216812 1.99764739 0.00543631 0.79691397 0.99909335 0.        ]\n",
      "hi\n",
      "[ 0.20216812 -0.00235261  0.00543631 -0.20308603 -0.00090665  0.        ]\n",
      "[ 4.04336237e-01  1.99529478e+00  1.08726161e-02  5.93827944e-01\n",
      " -1.81329400e-03  0.00000000e+00]\n",
      "hi\n",
      "hi\n",
      "[ 0.40433624 -0.00470522  0.01087262 -0.40617206 -0.00181329  0.        ]\n",
      "[-0.39349564  1.99294217  0.01630892  0.39074192 -0.00271994  0.        ]\n",
      "hi\n",
      "hi\n",
      "hi\n",
      "[-0.39349564 -0.00705783  0.01630892  0.39074192 -0.00271994  0.        ]\n",
      "[-0.19132753  1.99058956  0.02174523  0.18765589 -0.00362659  0.        ]\n",
      "hi\n",
      "hi\n",
      "hi\n",
      "[-0.19132753  0.99058956  0.02174523  0.18765589 -0.00362659  1.        ]\n",
      "[ 0.01084059  1.98823695  0.02718154  0.98456986 -0.00453323  1.        ]\n",
      "hi\n",
      "hi\n",
      "[ 0.01084059 -0.01176305  0.02718154 -0.01543014 -0.00453323  1.        ]\n",
      "done\n"
     ]
    }
   ],
   "source": [
    "#Path Following\n",
    "\n",
    "start_garb_place = move_read.read_joints()\n",
    "end_garb_place = np.append(np.array(qf[1][0])*180/math.pi, move_read.read_joints()[5])\n",
    "\n",
    "kp = 1.2\n",
    "\n",
    "q_des = path_generation.gen_joint_space_path(start_garb_place, end_garb_place, 5)\n",
    "\n",
    "for i in range(len(q_des)):\n",
    "\n",
    "        move_read.move_bot(q_des[i])\n",
    "\n",
    "        q_act = move_read.read_joints()\n",
    "\n",
    "        error = q_des[i] - q_act\n",
    "\n",
    "        print(error)\n",
    "\n",
    "        er = max(abs(error))\n",
    "\n",
    "        while abs(er) > 1:\n",
    "\n",
    "            print('hi')\n",
    "\n",
    "            q_command = q_des[i] + kp * error\n",
    "\n",
    "            move_read.move_bot(q_command)\n",
    "\n",
    "            q_act_new = move_read.read_joints()\n",
    "\n",
    "            error = q_des[i] - q_act_new\n",
    "\n",
    "            er = max(abs(error))\n",
    "\n",
    "        print(error)\n",
    "print('done')"
   ]
  },
  {
   "cell_type": "code",
   "execution_count": 15,
   "metadata": {},
   "outputs": [],
   "source": [
    "#Releasing block\n",
    "Arm.Arm_serial_servo_write(6, 125, 400)"
   ]
  },
  {
   "cell_type": "markdown",
   "metadata": {},
   "source": [
    "BLOCK 4"
   ]
  },
  {
   "cell_type": "code",
   "execution_count": 16,
   "metadata": {},
   "outputs": [
    {
     "name": "stdout",
     "output_type": "stream",
     "text": [
      "Initial Joints:\n",
      " [65 25 60 60 90 15]\n",
      "Expected Transform:\n",
      " R = [[-0.4971  0.1353 -0.8571]\n",
      "     [ 0.7308  0.5978 -0.3295]\n",
      "     [ 0.4677 -0.7902 -0.396 ]]\n",
      "p = [ 0.0259 -0.038   0.115 ]\n",
      "\n",
      "\n"
     ]
    }
   ],
   "source": [
    "# initialize joint angles, radians\n",
    "q4 = np.array([65,25,60,60,90,15])\n",
    "move_read.move_bot(q4)\n",
    "\n",
    "print(\"Initial Joints:\\n\",q4)\n",
    "# and compute path\n",
    "p = grt.fwdkin(robot,q4)\n",
    "print(\"Expected Transform:\\n\",p)"
   ]
  },
  {
   "cell_type": "code",
   "execution_count": 17,
   "metadata": {},
   "outputs": [
    {
     "name": "stdout",
     "output_type": "stream",
     "text": [
      "[65. 23. 59. 59. 90. 17.]\n"
     ]
    }
   ],
   "source": [
    "#End position from FK\n",
    "start4 = move_read.read_joints()\n",
    "end4 = np.array([65,25,60,60,90,15])\n",
    "\n",
    "#Generating path\n",
    "q_des4 = path_generation.gen_joint_space_path(start4, end4, 5)\n",
    "\n",
    "#Moving arm through path\n",
    "path_generation.path_follow(q_des4,2,5)\n",
    "    \n",
    "print(move_read.read_joints())\n",
    "\n",
    "#Grabbing block\n",
    "Arm.Arm_serial_servo_write(6, 155, 400)"
   ]
  },
  {
   "cell_type": "code",
   "execution_count": 18,
   "metadata": {},
   "outputs": [
    {
     "name": "stdout",
     "output_type": "stream",
     "text": [
      "[ 0.  0.  0. -1.  0.  0.]\n",
      "[ 0.  0.  0. -1.  0.  0.]\n",
      "[ 2.16811860e-03  2.39764739e+00 -7.94563692e-01 -1.80308603e+00\n",
      " -9.06646999e-04  0.00000000e+00]\n",
      "hi\n",
      "hi\n",
      "[ 2.16811860e-03 -6.02352610e-01  2.05436308e-01  1.96913972e-01\n",
      " -9.06646999e-04  1.00000000e+00]\n",
      "[ 4.33623721e-03  1.79529478e+00 -5.89127384e-01 -2.60617206e+00\n",
      " -1.81329400e-03  0.00000000e+00]\n",
      "hi\n",
      "hi\n",
      "hi\n",
      "[ 0.00433624  0.79529478  0.41087262  0.39382794 -0.00181329  1.        ]\n",
      "[ 0.00650436  2.19294217 -0.38369108 -1.40925808 -0.00271994  1.        ]\n",
      "hi\n",
      "[ 0.00650436 -0.80705783  0.61630892  0.59074192 -0.00271994  1.        ]\n",
      "[ 0.00867247  1.59058956 -0.17825477 -1.21234411 -0.00362659  1.        ]\n",
      "hi\n",
      "[ 0.00867247  0.59058956 -0.17825477  0.78765589 -0.00362659  1.        ]\n",
      "[ 0.01084059  1.98823695  0.02718154 -1.01543014 -0.00453323  1.        ]\n",
      "hi\n",
      "hi\n",
      "hi\n",
      "[ 0.01084059  0.98823695  0.02718154 -0.01543014 -0.00453323  1.        ]\n",
      "done\n"
     ]
    }
   ],
   "source": [
    "#Path Following\n",
    "\n",
    "start_garb_place = move_read.read_joints()\n",
    "end_garb_place = np.append(np.array(qf[1][0])*180/math.pi, move_read.read_joints()[5])\n",
    "\n",
    "kp = 1.2\n",
    "\n",
    "q_des = path_generation.gen_joint_space_path(start_garb_place, end_garb_place, 5)\n",
    "\n",
    "for i in range(len(q_des)):\n",
    "\n",
    "        move_read.move_bot(q_des[i])\n",
    "\n",
    "        q_act = move_read.read_joints()\n",
    "\n",
    "        error = q_des[i] - q_act\n",
    "\n",
    "        print(error)\n",
    "\n",
    "        er = max(abs(error))\n",
    "\n",
    "        while abs(er) > 1:\n",
    "\n",
    "            print('hi')\n",
    "\n",
    "            q_command = q_des[i] + kp * error\n",
    "\n",
    "            move_read.move_bot(q_command)\n",
    "\n",
    "            q_act_new = move_read.read_joints()\n",
    "\n",
    "            error = q_des[i] - q_act_new\n",
    "\n",
    "            er = max(abs(error))\n",
    "\n",
    "        print(error)\n",
    "print('done')"
   ]
  },
  {
   "cell_type": "code",
   "execution_count": 19,
   "metadata": {},
   "outputs": [],
   "source": [
    "#Releasing block\n",
    "Arm.Arm_serial_servo_write(6, 125, 400)"
   ]
  },
  {
   "cell_type": "markdown",
   "metadata": {},
   "source": [
    "BLOCK 5"
   ]
  },
  {
   "cell_type": "code",
   "execution_count": 20,
   "metadata": {},
   "outputs": [
    {
     "name": "stdout",
     "output_type": "stream",
     "text": [
      "Initial Joints:\n",
      " [65 25 60 60 90 15]\n",
      "Expected Transform:\n",
      " R = [[-0.4971  0.1353 -0.8571]\n",
      "     [ 0.7308  0.5978 -0.3295]\n",
      "     [ 0.4677 -0.7902 -0.396 ]]\n",
      "p = [ 0.0259 -0.038   0.115 ]\n",
      "\n",
      "\n"
     ]
    }
   ],
   "source": [
    "# initialize joint angles, radians\n",
    "q5 = np.array([115,25,60,60,90,15])\n",
    "\n",
    "print(\"Initial Joints:\\n\",q4)\n",
    "# and compute path\n",
    "p = grt.fwdkin(robot,q4)\n",
    "print(\"Expected Transform:\\n\",p)"
   ]
  },
  {
   "cell_type": "code",
   "execution_count": 21,
   "metadata": {},
   "outputs": [
    {
     "name": "stdout",
     "output_type": "stream",
     "text": [
      "[114.  25.  59.  59.  90.  17.]\n"
     ]
    }
   ],
   "source": [
    "#End position from FK\n",
    "start5 = move_read.read_joints()\n",
    "end5 = np.array([115,25,60,60,90,15])\n",
    "\n",
    "#Generating path\n",
    "q_des5 = path_generation.gen_joint_space_path(start5, end5, 5)\n",
    "\n",
    "#Moving arm through path\n",
    "path_generation.path_follow(q_des5,2,5)\n",
    "    \n",
    "print(move_read.read_joints())\n",
    "\n",
    "#Grabbing block\n",
    "Arm.Arm_serial_servo_write(6, 155, 400)"
   ]
  },
  {
   "cell_type": "code",
   "execution_count": 22,
   "metadata": {},
   "outputs": [
    {
     "name": "stdout",
     "output_type": "stream",
     "text": [
      "[0. 1. 0. 0. 0. 0.]\n",
      "[0. 1. 0. 0. 0. 0.]\n",
      "[ 2.02168119e-01  2.19764739e+00 -7.94563692e-01 -1.80308603e+00\n",
      " -9.06646999e-04  0.00000000e+00]\n",
      "hi\n",
      "hi\n",
      "[ 0.20216812  0.19764739  0.20543631  0.19691397 -0.00090665  0.        ]\n",
      "[ 4.04336237e-01  2.39529478e+00 -5.89127384e-01 -2.60617206e+00\n",
      " -1.81329400e-03  0.00000000e+00]\n",
      "hi\n",
      "hi\n",
      "hi\n",
      "[ 0.40433624 -0.60470522  0.41087262 -0.60617206 -0.00181329  0.        ]\n",
      "[ 0.60650436  1.59294217 -0.38369108 -1.40925808 -0.00271994  0.        ]\n",
      "hi\n",
      "[ 0.60650436  0.59294217  0.61630892  0.59074192 -0.00271994  0.        ]\n",
      "[-0.19132753  1.79058956 -0.17825477 -1.21234411 -0.00362659  0.        ]\n",
      "hi\n",
      "[ 0.80867247 -0.20941044 -0.17825477  0.78765589 -0.00362659  1.        ]\n",
      "[ 0.01084059  0.98823695  0.02718154 -1.01543014 -0.00453323  1.        ]\n",
      "hi\n",
      "[ 0.01084059 -0.01176305  0.02718154 -0.01543014 -0.00453323  1.        ]\n",
      "done\n"
     ]
    }
   ],
   "source": [
    "start_garb_place = move_read.read_joints()\n",
    "end_garb_place = np.append(np.array(qf[1][0])*180/math.pi, move_read.read_joints()[5])\n",
    "\n",
    "kp = 1.2\n",
    "\n",
    "q_des = path_generation.gen_joint_space_path(start_garb_place, end_garb_place, 5)\n",
    "\n",
    "for i in range(len(q_des)):\n",
    "\n",
    "        move_read.move_bot(q_des[i])\n",
    "\n",
    "        q_act = move_read.read_joints()\n",
    "\n",
    "        error = q_des[i] - q_act\n",
    "\n",
    "        print(error)\n",
    "\n",
    "        er = max(abs(error))\n",
    "\n",
    "        while abs(er) > 1:\n",
    "\n",
    "            print('hi')\n",
    "\n",
    "            q_command = q_des[i] + kp * error\n",
    "\n",
    "            move_read.move_bot(q_command)\n",
    "\n",
    "            q_act_new = move_read.read_joints()\n",
    "\n",
    "            error = q_des[i] - q_act_new\n",
    "\n",
    "            er = max(abs(error))\n",
    "\n",
    "        print(error)\n",
    "print('done')"
   ]
  },
  {
   "cell_type": "code",
   "execution_count": 23,
   "metadata": {},
   "outputs": [],
   "source": [
    "#Releasing block\n",
    "Arm.Arm_serial_servo_write(6, 125, 400)"
   ]
  },
  {
   "cell_type": "code",
   "execution_count": null,
   "metadata": {},
   "outputs": [],
   "source": []
  }
 ],
 "metadata": {
  "kernelspec": {
   "display_name": "Python 3",
   "language": "python",
   "name": "python3"
  },
  "language_info": {
   "codemirror_mode": {
    "name": "ipython",
    "version": 3
   },
   "file_extension": ".py",
   "mimetype": "text/x-python",
   "name": "python",
   "nbconvert_exporter": "python",
   "pygments_lexer": "ipython3",
   "version": "3.6.9"
  }
 },
 "nbformat": 4,
 "nbformat_minor": 4
}
