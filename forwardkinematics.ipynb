{
 "cells": [
  {
   "cell_type": "code",
   "execution_count": 1,
   "metadata": {},
   "outputs": [],
   "source": [
    "import time #import the time module. Used for adding pauses during operation\n",
    "from Arm_Lib import Arm_Device #import the module associated with the arm\n",
    "import numpy as np\n",
    "import math\n",
    "\n",
    "Arm = Arm_Device() # Get DOFBOT object\n",
    "time.sleep(.2) #this pauses execution for the given number of seconds"
   ]
  },
  {
   "cell_type": "code",
   "execution_count": 2,
   "metadata": {},
   "outputs": [],
   "source": [
    "def moveJoints(Arm, q):\n",
    "    speedtime = 500\n",
    "    jnum = 1\n",
    "    for ang in q:\n",
    "        Arm.Arm_serial_servo_write(jnum, ang, speedtime)\n",
    "        time.sleep(0.5)\n",
    "        jnum = jnum + 1"
   ]
  },
  {
   "cell_type": "code",
   "execution_count": 3,
   "metadata": {},
   "outputs": [],
   "source": [
    "def main():\n",
    "\n",
    "    # Should not use q0, goes into table\n",
    "    q0 = np.zeros([5,1])\n",
    "    # Middle pose - Arm pointing straight up\n",
    "    qMiddle = np.array([90, 90, 90, 90, 90, 90])\n",
    "    \n",
    "    '''\n",
    "      q1 = np.array([90, 90, 0, 10, 90, 0])\n",
    "    q2 = np.array([90, 180, 0, 10, 90, 0])\n",
    "    q3 = np.array([0, 180, 0, 45, 90, 0])\n",
    "    q4 = np.array([0, 90, 0, 45, 90, 0])\n",
    "    q5 = np.array([90, 30, 180, 0, 90, 0])\n",
    "    '''\n",
    "  \n",
    "    \n",
    "\n",
    "    q1 = np.array([90,31,8,148,90,0])\n",
    "    \n",
    "    \n",
    "    \n",
    "    # Set Joint angles\n",
    "    q = q1\n",
    "\n",
    "    # Calculate End Effector Pose\n",
    "    [R0,P0] = fwdkin(q)\n",
    "    # Move Joints to specified angles\n",
    "    #moveJoints(Arm, q)\n",
    "\n",
    "    # Remove any values extremely close to 0 with a tolerance\n",
    "    tol = 1e-8\n",
    "    R0[np.abs(R0) < tol] = 0\n",
    "    P0[np.abs(P0) < tol] = 0\n",
    "\n",
    "    # Print End Effector Pose (R & P)\n",
    "    print(\"R0:\\n\", R0)\n",
    "    print(\"P0:\\n\", P0)"
   ]
  },
  {
   "cell_type": "code",
   "execution_count": 4,
   "metadata": {},
   "outputs": [],
   "source": [
    "def rotz(q):\n",
    "    q_rad = q*math.pi/180\n",
    "    cos = math.cos(q_rad)\n",
    "    sin = math.sin(q_rad)\n",
    "    return np.array([[cos, -1*sin, 0] , [sin, cos, 0] , [0, 0, 1]])\n",
    "\n",
    "def roty(q):\n",
    "    q_rad = q*math.pi/180\n",
    "    cos = math.cos(q_rad)\n",
    "    sin = math.sin(q_rad)\n",
    "    return np.array([[cos, 0, sin], [0, 1, 0], [-1*sin, 0, cos]])\n",
    "\n",
    "def rotx(q):\n",
    "    q_rad = q*math.pi/180\n",
    "    cos = math.cos(q_rad)\n",
    "    sin = math.sin(q_rad)\n",
    "    return np.array([[1, 0, 0], [0, cos, -1*sin], [0, sin, cos]])"
   ]
  },
  {
   "cell_type": "code",
   "execution_count": 5,
   "metadata": {},
   "outputs": [],
   "source": [
    "def fwdkin(q):\n",
    "    ex = np.array([[1],[0],[0]])\n",
    "    ey = np.array([[0],[1],[0]])\n",
    "    ez = np.array([[0],[0],[1]])\n",
    "\n",
    "    l0 = 0.061 # base to servo 1\n",
    "    l1 = 0.0435 # servo 1 to servo 2\n",
    "    l2 = 0.08285 # servo 2 to servo 3\n",
    "    l3 = 0.08285 # servo 3 to servo 4\n",
    "    l4 = 0.07385 # servo 4 to servo 5\n",
    "    l5 = 0.05457 # servo 5 to gripper\n",
    "\n",
    "    P01 = ez * (l0+l1)\n",
    "    P12 = np.zeros([3,1])\n",
    "    P23 = ex * l2\n",
    "    P34 = ez * -l3\n",
    "    P45 = np.zeros([3,1])\n",
    "    P5T = ex * -(l4+l5)\n",
    "    \n",
    "    R01 = rotz(q.item(0))\n",
    "    R12 = roty(-q.item(1))\n",
    "    R23 = roty(-q.item(2))\n",
    "    R34 = roty(-q.item(3))\n",
    "    R45 = rotx(-q.item(4))\n",
    "    R5T = np.identity(3)\n",
    "\n",
    "    Rot = R01 @ R12 @ R23 @ R34 @ R45 @ R5T\n",
    "\n",
    "    Pot = P01 + R01 @ ( P12 + R12 @ ( P23 + R23 @ ( P34 + R34 @ ( P45 + R45 @ P5T))))\n",
    "\n",
    "    return [Rot, Pot]"
   ]
  },
  {
   "cell_type": "code",
   "execution_count": 6,
   "metadata": {},
   "outputs": [
    {
     "name": "stdout",
     "output_type": "stream",
     "text": [
      "R0:\n",
      " [[ 0.          0.         -1.        ]\n",
      " [-0.99254615 -0.12186934  0.        ]\n",
      " [-0.12186934  0.99254615  0.        ]]\n",
      "P0:\n",
      " [[0.        ]\n",
      " [0.25061828]\n",
      " [0.09843482]]\n"
     ]
    }
   ],
   "source": [
    "try:\n",
    "    main()\n",
    "    time.sleep(5)\n",
    "except KeyboardInterrupt:\n",
    "    print(\"Program closed!\")\n",
    "    pass\n",
    "\n",
    "# del Arm # release the arm object"
   ]
  },
  {
   "cell_type": "code",
   "execution_count": 7,
   "metadata": {},
   "outputs": [],
   "source": [
    "# Arm.Arm_serial_servo_write(4, 160, 500)"
   ]
  },
  {
   "cell_type": "code",
   "execution_count": 8,
   "metadata": {},
   "outputs": [
    {
     "name": "stdout",
     "output_type": "stream",
     "text": [
      "89\n"
     ]
    }
   ],
   "source": [
    "print(Arm.Arm_serial_servo_read(2))"
   ]
  },
  {
   "cell_type": "code",
   "execution_count": 9,
   "metadata": {},
   "outputs": [
    {
     "name": "stdout",
     "output_type": "stream",
     "text": [
      "Defaulting to user installation because normal site-packages is not writeable\n",
      "Looking in indexes: https://pypi.tuna.tsinghua.edu.cn/simple\n",
      "Requirement already satisfied: general-robotics-toolbox in /home/jetson/.local/lib/python3.6/site-packages (0.7.2)\n",
      "Requirement already satisfied: numpy in /home/jetson/.local/lib/python3.6/site-packages (from general-robotics-toolbox) (1.18.5)\n",
      "Requirement already satisfied: pyyaml in /home/jetson/.local/lib/python3.6/site-packages (from general-robotics-toolbox) (5.3)\n",
      "Requirement already satisfied: urdf-parser-py in /home/jetson/.local/lib/python3.6/site-packages (from general-robotics-toolbox) (0.0.4)\n",
      "Requirement already satisfied: lxml in /usr/lib/python3/dist-packages (from urdf-parser-py->general-robotics-toolbox) (4.2.1)\n",
      "\u001b[33mWARNING: You are using pip version 20.2.4; however, version 21.3.1 is available.\n",
      "You should consider upgrading via the '/usr/bin/python3 -m pip install --upgrade pip' command.\u001b[0m\n",
      "Note: you may need to restart the kernel to use updated packages.\n"
     ]
    }
   ],
   "source": [
    "pip install general-robotics-toolbox"
   ]
  },
  {
   "cell_type": "code",
   "execution_count": 10,
   "metadata": {},
   "outputs": [
    {
     "ename": "SyntaxError",
     "evalue": "invalid syntax (<ipython-input-10-f27ce9d2ad44>, line 3)",
     "output_type": "error",
     "traceback": [
      "\u001b[0;36m  File \u001b[0;32m\"<ipython-input-10-f27ce9d2ad44>\"\u001b[0;36m, line \u001b[0;32m3\u001b[0m\n\u001b[0;31m    def armbot\u001b[0m\n\u001b[0m              ^\u001b[0m\n\u001b[0;31mSyntaxError\u001b[0m\u001b[0;31m:\u001b[0m invalid syntax\n"
     ]
    }
   ],
   "source": [
    "import general_robotics_toolbox as toolbox\n",
    "\n",
    "def armbot\n",
    "\n",
    "toolbox.fwdkin()"
   ]
  },
  {
   "cell_type": "code",
   "execution_count": null,
   "metadata": {},
   "outputs": [],
   "source": []
  },
  {
   "cell_type": "code",
   "execution_count": null,
   "metadata": {},
   "outputs": [],
   "source": []
  }
 ],
 "metadata": {
  "kernelspec": {
   "display_name": "Python 3",
   "language": "python",
   "name": "python3"
  },
  "language_info": {
   "codemirror_mode": {
    "name": "ipython",
    "version": 3
   },
   "file_extension": ".py",
   "mimetype": "text/x-python",
   "name": "python",
   "nbconvert_exporter": "python",
   "pygments_lexer": "ipython3",
   "version": "3.6.9"
  }
 },
 "nbformat": 4,
 "nbformat_minor": 4
}
